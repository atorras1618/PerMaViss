{
 "cells": [
  {
   "cell_type": "markdown",
   "metadata": {},
   "source": [
    "# Introduction to PerMaViss\n",
    "\n",
    "This notebook introduces some of the objects and terminology used in PerMaViss. It explains in detail the used data structures, as well as the algorithmic intricacies of the persistence mayer vietoris algorithm.\n",
    "\n",
    "© Copyright 2021, Álvaro Torras Casas, part of PerMaViss project."
   ]
  },
  {
   "cell_type": "code",
   "execution_count": 1,
   "metadata": {},
   "outputs": [],
   "source": [
    "%matplotlib inline\n",
    "\n",
    "import numpy as np\n",
    "import matplotlib as mpl\n",
    "import matplotlib.pyplot as plt\n",
    "\n",
    "np.random.seed(10)\n"
   ]
  },
  {
   "cell_type": "code",
   "execution_count": 2,
   "metadata": {},
   "outputs": [
    {
     "data": {
      "text/plain": [
       "<matplotlib.font_manager.FontManager at 0x1aaf64bcc10>"
      ]
     },
     "execution_count": 2,
     "metadata": {},
     "output_type": "execute_result"
    }
   ],
   "source": [
    "mpl.font_manager.FontManager(size=20)"
   ]
  },
  {
   "cell_type": "markdown",
   "metadata": {},
   "source": [
    "# 1. Basic Persistent Homology using PerMaViss\n",
    "\n",
    "### 1.1. Generating a Random Circle\n",
    "\n",
    "We start by importing the necessary modules"
   ]
  },
  {
   "cell_type": "code",
   "execution_count": 3,
   "metadata": {},
   "outputs": [],
   "source": [
    "import permaviss\n",
    "\n",
    "from permaviss.sample_point_clouds.examples import random_circle, take_sample"
   ]
  },
  {
   "cell_type": "markdown",
   "metadata": {},
   "source": [
    "We sample 100 points around a noisy circle of radius 1. Then we take a subsample of 20 points by using the min-max algorithm."
   ]
  },
  {
   "cell_type": "code",
   "execution_count": 10,
   "metadata": {},
   "outputs": [
    {
     "data": {
      "image/png": "[encoded data removed]",
      "text/plain": [
       "<Figure size 432x432 with 1 Axes>"
      ]
     },
     "metadata": {
      "needs_background": "light"
     },
     "output_type": "display_data"
    }
   ],
   "source": [
    "X = random_circle(100, 1, 0.5, seed=10)    # random points around a circle of radius 1\n",
    "X = take_sample(X, 15, seed=4)   # subsample by using the min-max algorithm\n",
    "\n",
    "fig, ax = plt.subplots(ncols=1, nrows=1, figsize=(6,6))\n",
    "ax.set(frame_on=False)\n",
    "ax.grid(c='lightgray')\n",
    "ax.scatter(X[:,0], X[:,1], s=100, c='navy')\n",
    "ax.set_xlim([-2.1,2.1])\n",
    "ax.set_ylim([-2.1,2.1])\n",
    "plt.xticks([-2,0,2])\n",
    "plt.yticks([-2,0,2])\n",
    "plt.savefig(\"figures/sample_circle.png\", pad_inches=0.05, bbox_inches=None)"
   ]
  },
  {
   "cell_type": "markdown",
   "metadata": {},
   "source": [
    "### 1.2. Computing the Vietoris-Rips complex\n",
    "\n",
    "First, we import the modules implementing the construction of filtered complexes. We also import a scipy submodule for computing the distance matrices."
   ]
  },
  {
   "cell_type": "code",
   "execution_count": 11,
   "metadata": {},
   "outputs": [],
   "source": [
    "from permaviss.simplicial_complexes.vietoris_rips import vietoris_rips\n",
    "\n",
    "import scipy.spatial.distance as dist\n",
    "\n",
    "Dist_X = dist.squareform(dist.pdist(X))"
   ]
  },
  {
   "cell_type": "markdown",
   "metadata": {},
   "source": [
    "Then we proceed to compute the Vietoris-Rips complex on top of $X$, we set the maximum filtration radius at value 4 and the maximum dimension at value 3. Notice that in the following example $C$ is a list of lists whose first entry indicates the number of vertices, the filtration values are stored on a separated list of lists $R$; both $C$ and $R$ share the same indexing system: [dimension][simplex index]. Simplices in $C$ are stored by the collection of vertices: $[v_1, v_2 ..., v_n]$."
   ]
  },
  {
   "cell_type": "code",
   "execution_count": 18,
   "metadata": {},
   "outputs": [
    {
     "name": "stdout",
     "output_type": "stream",
     "text": [
      "Number of vertices: 15\n",
      "=======================\n",
      "Dimension: 1\n",
      "=======================\n",
      "[ 5 14] --> 0.484\n",
      "[ 4 13] --> 0.499\n",
      "[ 7 12] --> 0.518\n",
      "[ 6 11] --> 0.531\n",
      "[ 2 10] --> 0.547\n",
      "[6 9] --> 0.560\n",
      "[ 1 11] --> 0.561\n",
      "...\n",
      "\n",
      "Dimension: 2\n",
      "=======================\n",
      "[ 1  8 11] --> 0.665\n",
      "[ 5  8 14] --> 0.685\n",
      "[ 4 10 13] --> 0.801\n",
      "[ 2 10 14] --> 0.919\n",
      "[3 6 9] --> 1.000\n",
      "[1 5 8] --> 1.002\n",
      "[ 3  7 12] --> 1.026\n",
      "...\n",
      "\n",
      "Dimension: 3\n",
      "=======================\n",
      "[ 1  6  8 11] --> 1.185\n",
      "[ 1  5  8 11] --> 1.236\n",
      "[ 1  5  8 14] --> 1.248\n",
      "[ 1  5 11 14] --> 1.269\n",
      "[ 1  8 11 14] --> 1.269\n",
      "[ 5  8 11 14] --> 1.269\n",
      "[ 2  4 10 13] --> 1.343\n",
      "...\n",
      "\n"
     ]
    }
   ],
   "source": [
    "max_r = 4\n",
    "max_dim = 3\n",
    "C, R = vietoris_rips(Dist_X, max_r, max_dim)\n",
    "print(\"Number of vertices: \" + str(C[0]))\n",
    "print(\"=======================\")\n",
    "for dim, C_dim in enumerate(C):\n",
    "    if dim > 0:\n",
    "        print(\"Dimension: \" + str(dim))\n",
    "        print(\"=======================\")\n",
    "        for spx_idx, simplex in enumerate(C_dim):\n",
    "            print(str(C_dim[spx_idx]) + \" --> \" + \"{:.3f}\".format(R[dim][spx_idx]))\n",
    "            if spx_idx > 5: # limit the display to 5 simplices per dimension\n",
    "                print(\"...\\n\")\n",
    "                break\n",
    "            "
   ]
  },
  {
   "cell_type": "markdown",
   "metadata": {},
   "source": [
    "### 1.3. Computing Classic Persistent Homology"
   ]
  },
  {
   "cell_type": "markdown",
   "metadata": {},
   "source": [
    "In this section we compute persistent homology of $C$ by using the classic matrix approach with the twist implementation. "
   ]
  },
  {
   "cell_type": "code",
   "execution_count": 13,
   "metadata": {},
   "outputs": [],
   "source": [
    "import time\n",
    "from permaviss.simplicial_complexes.differentials import complex_differentials\n",
    "from permaviss.persistence_algebra.PH_classic import persistent_homology"
   ]
  },
  {
   "cell_type": "markdown",
   "metadata": {},
   "source": [
    "We compute the differentials of $C$ on the base field $Z$ mod $5$. Afterwards we compute persistent homology. Notice that the current implementation is slow."
   ]
  },
  {
   "cell_type": "code",
   "execution_count": 14,
   "metadata": {},
   "outputs": [
    {
     "name": "stdout",
     "output_type": "stream",
     "text": [
      "Computing differentials took 32.63 seconds.\n",
      "Computing persistent homology took 101.03 seconds.\n"
     ]
    }
   ],
   "source": [
    "p = 5 # perform computations on Z mod 5\n",
    "\n",
    "start = time.time()\n",
    "Diff = complex_differentials(C, p=5)\n",
    "end = time.time()\n",
    "print(\"Computing differentials took \" + \"{:.2f}\".format(end - start) + \" seconds.\")\n",
    "start = end\n",
    "Hom, Im, PreIm = persistent_homology(Diff, R, max_r, p)\n",
    "end = time.time()\n",
    "print(\"Computing persistent homology took \" + \"{:.2f}\".format(end - start) + \" seconds.\")"
   ]
  },
  {
   "cell_type": "markdown",
   "metadata": {},
   "source": [
    "When computing persistent homology we recover $Hom$, $Im$ and $PreIm$, which store persistent homology classes, image representatives and preimages. These are lists indexed by dimension which contain information as barcode basis objects."
   ]
  },
  {
   "cell_type": "code",
   "execution_count": 62,
   "metadata": {},
   "outputs": [
    {
     "name": "stdout",
     "output_type": "stream",
     "text": [
      "Hom length: 4\n",
      "\n",
      "Hom[1] type: <class 'permaviss.persistence_algebra.barcode_bases.barcode_basis'>\n",
      "\n",
      "Hom[1].barcode: \n",
      "[[0.93966454 1.94179243]]\n",
      "\n",
      "Hom[1].coordinates.T: \n",
      "[[0. 4. 4. 4. 0. 1. 0. 0. 0. 4. 1. 1. 1. 1. 4. 0. 0. 1. 4. 0. 0. 0. 0. 0.\n",
      "  0. 0. 0. 0. 0. 0. 0. 0. 0. 0. 0. 0. 0. 0. 0. 0. 0. 0. 0. 0. 0. 0. 0. 0.\n",
      "  0. 0. 0. 0. 0. 0. 0. 0. 0. 0. 0. 0. 0. 0. 0. 0. 0. 0. 0. 0. 0. 0. 0. 0.\n",
      "  0. 0. 0. 0. 0. 0. 0. 0. 0. 0. 0. 0. 0. 0. 0. 0. 0. 0. 0. 0. 0. 0. 0. 0.\n",
      "  0. 0. 0. 0. 0. 0. 0. 0. 0.]]\n",
      "\n",
      "Im length: 4\n",
      "\n",
      "Im[1] type: <class 'permaviss.persistence_algebra.barcode_bases.barcode_basis'>\n",
      "\n",
      "Im[1].barcode: \n",
      "[[0.6648009  4.        ]\n",
      " [0.68466353 4.        ]\n",
      " [0.80052124 4.        ]\n",
      " ...\n",
      " [2.77053568 4.        ]\n",
      " [2.80922942 4.        ]\n",
      " [2.83070175 4.        ]]\n",
      "\n",
      "Im[1].coordinates.T: \n",
      "[[0. 0. 0. ... 0. 0. 0.]\n",
      " [4. 0. 0. ... 0. 0. 0.]\n",
      " [0. 4. 0. ... 0. 0. 0.]\n",
      " ...\n",
      " [0. 0. 1. ... 4. 0. 0.]\n",
      " [0. 0. 0. ... 0. 1. 0.]\n",
      " [0. 0. 0. ... 4. 0. 1.]]\n",
      "\n",
      "PreIm length: 4\n",
      "\n",
      "PreIm[1] type: <class 'numpy.ndarray'>\n",
      "\n",
      "PreIm[1]: \n",
      "[[1. 0. 0. ... 0. 0. 4.]\n",
      " [0. 1. 0. ... 0. 4. 4.]\n",
      " [0. 0. 1. ... 4. 0. 0.]\n",
      " ...\n",
      " [0. 0. 0. ... 0. 0. 0.]\n",
      " [0. 0. 0. ... 0. 0. 0.]\n",
      " [0. 0. 0. ... 0. 0. 0.]]\n",
      "\n"
     ]
    }
   ],
   "source": [
    "print(\"Hom length: \" + str(len(Hom)) + \"\\n\")\n",
    "print(\"Hom[1] type: \" + str(type(Hom[1])) + \"\\n\")\n",
    "print(\"Hom[1].barcode: \\n\" + str(Hom[1].barcode) + \"\\n\")\n",
    "print(\"Hom[1].coordinates.T: \\n\" + str(Hom[1].coordinates.T) + \"\\n\")\n",
    "\n",
    "print(\"Im length: \" + str(len(Im)) + \"\\n\")\n",
    "print(\"Im[1] type: \" + str(type(Im[1])) + \"\\n\")\n",
    "print(\"Im[1].barcode: \\n\" + str(Im[1].barcode[:3])[:-1] + \"\\n\" + \" ...\\n\" + \" \" + str(Im[1].barcode[-3:])[1:-1] + \"]\" + \"\\n\") # limit output\n",
    "print(\"Im[1].coordinates.T: \\n\" + str(Im[1].coordinates.T) + \"\\n\")\n",
    "\n",
    "print(\"PreIm length: \" + str(len(PreIm)) + \"\\n\")\n",
    "print(\"PreIm[1] type: \" + str(type(PreIm[1])) + \"\\n\")\n",
    "print(\"PreIm[1]: \\n\" + str(PreIm[1]) + \"\\n\") "
   ]
  },
  {
   "cell_type": "markdown",
   "metadata": {},
   "source": [
    "We may plot the obtained persistence diagram and representatives by using the information contained in $Hom$."
   ]
  },
  {
   "cell_type": "code",
   "execution_count": 135,
   "metadata": {},
   "outputs": [
    {
     "data": {
      "image/png": "[encoded data removed]",
      "text/plain": [
       "<Figure size 864x432 with 2 Axes>"
      ]
     },
     "metadata": {
      "needs_background": "light"
     },
     "output_type": "display_data"
    }
   ],
   "source": [
    "blues = mpl.cm.get_cmap('Blues') # get colormap for plotting\n",
    "max_plotting_r = 1.9 # set maximum filtration for plotting purposes\n",
    "\n",
    "fig = plt.figure(figsize=(12,6))\n",
    "\n",
    "ax0 = fig.add_subplot(1,2,1)\n",
    "ax1 = fig.add_subplot(1,2,2)\n",
    "\n",
    "# plot point persistence diagram #################################################\n",
    "\n",
    "ax0.set(frame_on=False)\n",
    "ax0.grid(c='lightgray')\n",
    "\n",
    "barcode0 = Hom[0].barcode\n",
    "ax0.scatter(barcode0[:,0], barcode0[:,1], c='navy', s=90, label='dim 0', zorder=3)\n",
    "\n",
    "barcode1 = Hom[1].barcode\n",
    "ax0.scatter(barcode1[:,0], barcode1[:,1], c='red', s=90, label='dim 1', zorder=3)\n",
    "\n",
    "ax0.plot([0, max_r], [0, max_r], c='gray') # plot diagonal \n",
    "\n",
    "# set axes layout\n",
    "ax0.set_xlim([-0.1, max_r + 0.1])\n",
    "ax0.set_ylim([-0.1, max_r + 0.1])\n",
    "ax0.set_xticks(range(5))\n",
    "ax0.set_yticks(range(5))\n",
    "#set labels \n",
    "ax0.set_title(\"Persistence Diagram\")\n",
    "# avoid repeating labels on legend \n",
    "handles, labels = ax0.get_legend_handles_labels()\n",
    "by_label = dict(zip(labels, handles)) # dictionary deletes repeating labels\n",
    "ax0.legend(by_label.values(), by_label.keys(), loc='lower right')\n",
    "\n",
    "# plot cycle representative #################################################\n",
    "\n",
    "ax1.set(frame_on=False)\n",
    "ax1.grid(c='lightgray')\n",
    "\n",
    "# plot 2D simplices\n",
    "for idx, triangle in enumerate(C[2]):\n",
    "    if R[2][idx] < max_plotting_r:\n",
    "        vertices = X[triangle]\n",
    "        ax1.fill(vertices[:, 0], vertices[:, 1], facecolor=blues(R[2][idx]/(5*max_plotting_r)))\n",
    "# plot edges \n",
    "for idx, edge in enumerate(C[1]):\n",
    "    if R[1][idx] < max_plotting_r:\n",
    "        vertices = X[edge]\n",
    "        ax1.plot(vertices[:, 0], vertices[:, 1], color=blues(R[1][idx]/(2*max_plotting_r)))\n",
    "\n",
    "# add cycle representative\n",
    "for idx, coeff in enumerate(Hom[1].coordinates[:, 0]):\n",
    "    if coeff != 0:\n",
    "        edge = C[1][idx] # get edge from index\n",
    "        vertices = X[edge] # recover vertices\n",
    "        ax1.plot(vertices[:, 0], vertices[:, 1], color='red', linewidth=3, label='Cycle Representative')\n",
    "        \n",
    "# scatter plot \n",
    "ax1.scatter(X[:,0], X[:,1], s=60, c='navy', zorder=2.5, label='Point Cloud')\n",
    "\n",
    "# set axes layout\n",
    "ax1.set_xlim([-2.1,2.1])\n",
    "ax1.set_ylim([-2.1,2.1])\n",
    "ax1.set_xticks([-2,0,2])\n",
    "ax1.set_yticks([-2,0,2])\n",
    "#set labels \n",
    "ax1.set_title(\"Vietoris Rips complex at filtration value \" + str(max_plotting_r))\n",
    "# avoid repeating labels on legend \n",
    "handles, labels = ax1.get_legend_handles_labels()\n",
    "by_label = dict(zip(labels, handles)) # dictionary deletes repeating labels\n",
    "ax1.legend(by_label.values(), by_label.keys(), loc='lower right')\n",
    "\n",
    "# save figure ########################################################\n",
    "\n",
    "plt.savefig(\"figures/diagram_rep_circle.png\", pad_inches=0.05, bbox_inches=None)"
   ]
  },
  {
   "cell_type": "code",
   "execution_count": 91,
   "metadata": {},
   "outputs": [
    {
     "data": {
      "text/plain": [
       "4"
      ]
     },
     "execution_count": 91,
     "metadata": {},
     "output_type": "execute_result"
    }
   ],
   "source": [
    "np.max(np.array([[1,2],[3,4],[-1,-5]]))"
   ]
  },
  {
   "cell_type": "markdown",
   "metadata": {},
   "source": [
    "# 2. Persistence Algebra\n",
    "\n",
    "### 2.1. Barcode Bases\n",
    "\n",
    "Barcode bases store bases associated to persistence modules. We always assume that intervals associated with generators are right-open. Let us start by creating a barcode basis object whose associated barcode contains the bars $[0,2)$, $[0,1)$, $[2,3)$ and $[2,2)$. "
   ]
  },
  {
   "cell_type": "code",
   "execution_count": 71,
   "metadata": {},
   "outputs": [
    {
     "name": "stdout",
     "output_type": "stream",
     "text": [
      "Created base1\n",
      "\n",
      "Dimension of base1: 3\n",
      "\n",
      "Barcode basis\n",
      "[[1 2]\n",
      " [1 4]\n",
      " [0 3]]\n",
      "\n"
     ]
    }
   ],
   "source": [
    "from permaviss.persistence_algebra.barcode_bases import barcode_basis\n",
    "\n",
    "bars = np.array([[1,2],[1,4],[0,3],[2,2]])\n",
    "base1 = barcode_basis(bars)\n",
    "print(\"Created base1\\n\")\n",
    "print(\"Dimension of base1: \" + str(base1.dim) + \"\\n\")\n",
    "print(base1)"
   ]
  },
  {
   "cell_type": "markdown",
   "metadata": {},
   "source": [
    "Notice that the trivial interval $[2,2)$ has been authomatically deleted. We can use the <code>barcode_basis.sort()</code> method to sort the intervals according to the standard interval order."
   ]
  },
  {
   "cell_type": "code",
   "execution_count": 72,
   "metadata": {},
   "outputs": [
    {
     "name": "stdout",
     "output_type": "stream",
     "text": [
      "Barcode basis\n",
      "[[0 3]\n",
      " [1 4]\n",
      " [1 2]]\n",
      "\n"
     ]
    }
   ],
   "source": [
    "base1.sort()\n",
    "print(base1)"
   ]
  },
  {
   "cell_type": "markdown",
   "metadata": {},
   "source": [
    "We can recover the persistence values at which some change happens at <code>base1</code> barcodes by using \n",
    "the method <code>barcode_basis.changes_list()</code>. Then, we might use the methods \n",
    "<code>barcode_basis.birth()</code> and <code>barcode_basis.death()</code> to know the indices of the generators \n",
    "which are being born or dying."
   ]
  },
  {
   "cell_type": "code",
   "execution_count": 76,
   "metadata": {},
   "outputs": [
    {
     "name": "stdout",
     "output_type": "stream",
     "text": [
      "Change value list: [0 1 2 3 4]\n",
      "\n",
      "Filtration Value: 0\n",
      "Generators being born: [0]\n",
      "Generators dying: []\n",
      "\n",
      "Filtration Value: 1\n",
      "Generators being born: [1 2]\n",
      "Generators dying: []\n",
      "\n",
      "Filtration Value: 2\n",
      "Generators being born: []\n",
      "Generators dying: [2]\n",
      "\n",
      "Filtration Value: 3\n",
      "Generators being born: []\n",
      "Generators dying: [0]\n",
      "\n",
      "Filtration Value: 4\n",
      "Generators being born: []\n",
      "Generators dying: [1]\n",
      "\n"
     ]
    }
   ],
   "source": [
    "change_values = base1.changes_list()\n",
    "print(\"Change value list: \" + str(change_values) + \"\\n\")\n",
    "for x in change_values:\n",
    "    print(\"Filtration Value: \" + str(x))\n",
    "    print(\"Generators being born: \" + str(base1.birth(x)))\n",
    "    print(\"Generators dying: \" + str(base1.death(x)) + \"\\n\")"
   ]
  },
  {
   "cell_type": "markdown",
   "metadata": {},
   "source": [
    "We might create a barcode basis object by referencing a previously created barcode basis object. This introduces coordinates. In the following example we create a new base referencing the previously created <code>base1</code>. Notice that when printing the created base two arrays are displayed: the associated barcode as well as the corresponding coordinates."
   ]
  },
  {
   "cell_type": "code",
   "execution_count": 85,
   "metadata": {},
   "outputs": [
    {
     "name": "stdout",
     "output_type": "stream",
     "text": [
      "Barcode basis\n",
      "[[1 3]\n",
      " [2 4]]\n",
      "[[ 1  1]\n",
      " [ 0  1]\n",
      " [-1  0]]\n",
      "\n",
      "\n",
      "We might also read this by using object attributes:\n",
      "base2.barcode:\n",
      "[[1 3]\n",
      " [2 4]]\n",
      "base2.coordinates:\n",
      "[[ 1  1]\n",
      " [ 0  1]\n",
      " [-1  0]]\n"
     ]
    }
   ],
   "source": [
    "barcode =[[1,3], [2,4]]\n",
    "coordinates = np.array([[1,0,-1], [1, 1, 0]]).T\n",
    "base2 = barcode_basis(barcode, prev_basis=base1, coordinates=coordinates)\n",
    "print(str(base2) + \"\\n\")\n",
    "print(\"We might also read this by using object attributes:\")\n",
    "print(\"base2.barcode:\\n\" + str(base2.barcode))\n",
    "print(\"base2.coordinates:\\n\" + str(base2.coordinates))"
   ]
  },
  {
   "cell_type": "markdown",
   "metadata": {},
   "source": [
    "**Remark:** Although one might use coordinates to refer to a submodule base, this does not need to be the case. Often we will rather refer to the base of a quotient $N/K$ from a given sequence $K \\subseteq N \\subseteq M$, where the given previous basis will be that of $M$. This is important because the choice of coordinates is always limited by the setup, currently <code>PerMaViss</code> **does not check** whether the given coordinates are valid in this sense; so one needs to be careful when using the functions in persistence algebra directly.\n",
    "\n",
    "### 2.2. The ImageKernel algorithm\n",
    "\n",
    "We will now consider a pair of persistence modules $M$ and $N$ together with a persistence morphism $f:M\\rightarrow N$."
   ]
  },
  {
   "cell_type": "code",
   "execution_count": 99,
   "metadata": {
    "scrolled": true
   },
   "outputs": [
    {
     "name": "stdout",
     "output_type": "stream",
     "text": [
      "Im:\n",
      "Barcode basis\n",
      "[[0. 2.]\n",
      " [1. 3.]\n",
      " [1. 2.]]\n",
      "[[0 1 0]\n",
      " [4 0 2]\n",
      " [1 0 0]]\n",
      "\n",
      "\n",
      "Ker:\n",
      "Barcode basis\n",
      "[[0. 2.]\n",
      " [2. 4.]\n",
      " [2. 4.]]\n",
      "[[0. 1. 4.]\n",
      " [1. 0. 0.]\n",
      " [0. 0. 1.]\n",
      " [0. 0. 0.]]\n",
      "\n",
      "\n",
      "PreIm:\n",
      "[[1. 2. 4.]\n",
      " [0. 0. 0.]\n",
      " [0. 4. 1.]\n",
      " [0. 1. 0.]]\n",
      "\n"
     ]
    }
   ],
   "source": [
    "from permaviss.persistence_algebra.image_kernel import image_kernel\n",
    "\n",
    "base_M = barcode_basis([[0, 4], [0, 2], [1, 4], [1, 3]])\n",
    "base_N = barcode_basis([[0, 3], [0, 2], [0, 2]])\n",
    "F = np.array([[0, 0, 0, 1], [4, 0, 1, 3], [1, 0, 1, 4]])\n",
    "Im, Ker, PreIm = image_kernel(base_M, base_N, F, p=5)\n",
    "\n",
    "print(\"Im:\")\n",
    "print(str(Im) + \"\\n\")\n",
    "print(\"Ker:\")\n",
    "print(str(Ker) + \"\\n\")\n",
    "print(\"PreIm:\")\n",
    "print(str(PreIm) + \"\\n\")"
   ]
  },
  {
   "cell_type": "markdown",
   "metadata": {},
   "source": [
    "Let us plot some of this information so that it makes more sense:"
   ]
  },
  {
   "cell_type": "code",
   "execution_count": 197,
   "metadata": {},
   "outputs": [
    {
     "data": {
      "image/png": "[encoded data removed]",
      "text/plain": [
       "<Figure size 864x576 with 2 Axes>"
      ]
     },
     "metadata": {
      "needs_background": "light"
     },
     "output_type": "display_data"
    }
   ],
   "source": [
    "def plot_barcodes(barcode, x_pos, ax, color):\n",
    "    for bar in barcode:\n",
    "        ax.plot([x_pos, x_pos], [bar[0], bar[1]], linewidth=4, c=color, zorder=2.5)\n",
    "        ax.scatter([x_pos], [bar[0]], s=50, c=color, zorder=3)\n",
    "        ax.scatter([x_pos], [bar[1]], s=50, facecolors='white', edgecolors=color, zorder=3)\n",
    "        x_pos+=0.5\n",
    "    return x_pos\n",
    "\n",
    "def plot_dual_barcodes(barcode, x_pos, ax, color):\n",
    "    for bar in barcode:\n",
    "        ax.plot([x_pos, x_pos], [bar[0], bar[1]], linewidth=4, c=color, zorder=2.5)\n",
    "        ax.scatter([x_pos], [bar[1]], s=50, c=color, zorder=3)\n",
    "        ax.scatter([x_pos], [bar[0]], s=50, facecolors='white', edgecolors=color, zorder=3)\n",
    "        x_pos+=0.5\n",
    "    return x_pos\n",
    "\n",
    "fig = plt.figure(figsize=(12,8))\n",
    "\n",
    "ax0 = fig.add_subplot(2,1,1)\n",
    "ax1 = fig.add_subplot(2,1,2)\n",
    "\n",
    "# plot short exact sequence ker(f) --> M --> Im(f) ##############################################################\n",
    "ax0.set(frame_on=False)\n",
    "ax0.grid(c='lightgray')\n",
    "ax0.arrow(0, 0, 0, 4.2, width=0.1, color='black', zorder=2.5)\n",
    "ax0.set_xticks([])\n",
    "ax0.set_yticks(range(5))\n",
    "ax0.set_xlim([-0.2,20])\n",
    "ax0.set_ylim([-1.5,5])\n",
    "# plot ker(f)\n",
    "x_pos = 2\n",
    "ax0.text(x_pos+0.5, 4.5, \"Ker(f)\", fontsize='x-large')\n",
    "x_pos = plot_barcodes(Ker.barcode, x_pos, ax0, 'steelblue')\n",
    "ax0.arrow(x_pos, 2, 2, 0, width=0.2, zorder=2.5, facecolor='aliceblue')\n",
    "ax0.text(x_pos+0.25, 2.75, \"Ker.coordinates\\n\" + str(Ker.coordinates), backgroundcolor='aliceblue', zorder=2.5)\n",
    "# plot M\n",
    "x_pos+=4\n",
    "ax0.text(x_pos+0.5, 4.5, \"M\", fontsize='x-large')\n",
    "x_pos = plot_barcodes(base_M.barcode, x_pos, ax0, 'steelblue')\n",
    "ax0.arrow(x_pos+3, 2, -2, 0, width=0.2, zorder=2.5, facecolor='aliceblue')\n",
    "ax0.text(x_pos+1, 2.75, \"PreIm\\n\" + str(PreIm), backgroundcolor='aliceblue', zorder=2.5)\n",
    "# plot Im(f)\n",
    "x_pos+=4\n",
    "ax0.text(x_pos+0.5, 4.5, \"Im(f)\", fontsize='x-large')\n",
    "x_pos = plot_barcodes(Im.barcode, x_pos, ax0, 'steelblue')\n",
    "\n",
    "# plot short exact sequence Im(f) --> N --> Coker(f) ##############################################################\n",
    "ax1.set(frame_on=False)\n",
    "ax1.grid(c='lightgray')\n",
    "ax1.arrow(0, 0, 0, 4.2, width=0.1, color='black', zorder=2.5)\n",
    "ax1.set_xticks([])\n",
    "ax1.set_yticks(range(5))\n",
    "ax1.set_xlim([-0.2,20])\n",
    "ax1.set_ylim([-1.5,5])\n",
    "# plot ker(f)\n",
    "x_pos = 2\n",
    "ax1.text(x_pos+0.5, 4.5, \"Im(f)\", fontsize='x-large')\n",
    "x_pos = plot_barcodes(Im.barcode, x_pos, ax1, 'coral')\n",
    "ax1.arrow(x_pos, 2, 2, 0, width=0.2, zorder=2.5, facecolor='seashell')\n",
    "ax1.text(x_pos+0.25, 2.75, \"Im.coordinates\\n\" + str(Im.coordinates), backgroundcolor='seashell', zorder=2.5)\n",
    "# plot M\n",
    "x_pos+=4.5\n",
    "ax1.text(x_pos+0.5, 4.5, \"N\", fontsize='x-large')\n",
    "x_pos = plot_barcodes(base_N.barcode, x_pos, ax1, 'coral')\n",
    "ax1.arrow(x_pos+0.5, 2, 2, 0, width=0.2, zorder=2.5, facecolor='seashell')\n",
    "ax1.text(x_pos+1.5, 3, \"?\", fontsize=30, backgroundcolor='seashell')\n",
    "# plot Im(f)\n",
    "x_pos+=4\n",
    "ax1.text(x_pos+0.5, 4.5, \"Coker(f)\", fontsize='x-large')\n",
    "ax1.text(x_pos+1, 1.5, \"?\", fontsize=60, backgroundcolor='seashell')\n",
    "\n",
    "plt.show()"
   ]
  },
  {
   "cell_type": "markdown",
   "metadata": {},
   "source": [
    "ImageKernel can be used to compute quotients. In this case, we use it for obtaining the missing cokernel."
   ]
  },
  {
   "cell_type": "code",
   "execution_count": 211,
   "metadata": {},
   "outputs": [
    {
     "name": "stdout",
     "output_type": "stream",
     "text": [
      "Barcode basis\n",
      "[[0. 3.]\n",
      " [0. 2.]\n",
      " [0. 2.]]\n",
      "[[1. 0. 0.]\n",
      " [0. 1. 1.]\n",
      " [0. 4. 0.]]\n",
      "\n"
     ]
    }
   ],
   "source": [
    "barcode_M_N = np.concatenate([base_M.barcode, base_N.barcode], axis=0)\n",
    "base_M_N = barcode_basis(barcode_M_N)\n",
    "F_Id = np.concatenate([F, np.identity(base_N.dim)], axis=1)\n",
    "\n",
    "Q, _, _ = image_kernel(base_M_N, base_N, F_Id, p=5)\n",
    "print(Q)"
   ]
  },
  {
   "cell_type": "markdown",
   "metadata": {},
   "source": [
    "### 2.3. Persistence Module Homology"
   ]
  },
  {
   "cell_type": "code",
   "execution_count": null,
   "metadata": {},
   "outputs": [],
   "source": []
  },
  {
   "cell_type": "markdown",
   "metadata": {},
   "source": [
    "# 3. Čech Homology\n",
    "\n",
    "### 3.1. Dividing Pointclouds into Cubical Regions"
   ]
  },
  {
   "cell_type": "code",
   "execution_count": null,
   "metadata": {},
   "outputs": [],
   "source": []
  },
  {
   "cell_type": "markdown",
   "metadata": {},
   "source": [
    "### 3.2. Computing Local Persistent Homology in parallel"
   ]
  },
  {
   "cell_type": "code",
   "execution_count": null,
   "metadata": {},
   "outputs": [],
   "source": []
  },
  {
   "cell_type": "markdown",
   "metadata": {},
   "source": [
    "### 3.3. Local Chains Class"
   ]
  },
  {
   "cell_type": "code",
   "execution_count": null,
   "metadata": {},
   "outputs": [],
   "source": []
  },
  {
   "cell_type": "markdown",
   "metadata": {},
   "source": [
    "### 3.4. Čech differentials and Čech Homology"
   ]
  },
  {
   "cell_type": "code",
   "execution_count": null,
   "metadata": {},
   "outputs": [],
   "source": []
  },
  {
   "cell_type": "markdown",
   "metadata": {},
   "source": [
    "### 3.5. Illustration of some examples"
   ]
  },
  {
   "cell_type": "code",
   "execution_count": null,
   "metadata": {},
   "outputs": [],
   "source": []
  },
  {
   "cell_type": "markdown",
   "metadata": {},
   "source": [
    "# 4. Computing the spectral sequence\n",
    "\n",
    "### 4.1. Total Complex Representatives"
   ]
  },
  {
   "cell_type": "code",
   "execution_count": null,
   "metadata": {},
   "outputs": [],
   "source": []
  },
  {
   "cell_type": "markdown",
   "metadata": {},
   "source": [
    "### 4.2. Computing Higher Pages"
   ]
  },
  {
   "cell_type": "code",
   "execution_count": null,
   "metadata": {},
   "outputs": [],
   "source": []
  },
  {
   "cell_type": "markdown",
   "metadata": {},
   "source": [
    "### 4.3. Extension Problem"
   ]
  },
  {
   "cell_type": "code",
   "execution_count": null,
   "metadata": {},
   "outputs": [],
   "source": []
  },
  {
   "cell_type": "markdown",
   "metadata": {},
   "source": [
    "# 5. A brief example Using PerMaViss\n",
    "### 5.1. Computing the spectral sequence"
   ]
  },
  {
   "cell_type": "code",
   "execution_count": null,
   "metadata": {},
   "outputs": [],
   "source": []
  },
  {
   "cell_type": "markdown",
   "metadata": {},
   "source": [
    "### 5.2. Plotting the Results"
   ]
  },
  {
   "cell_type": "code",
   "execution_count": null,
   "metadata": {},
   "outputs": [],
   "source": []
  },
  {
   "cell_type": "markdown",
   "metadata": {},
   "source": [
    "# 6. Conclusion\n",
    "\n",
    "There are still a few functions to include in PerMaViss...\n",
    "\n",
    "I hope you enjoyed the tutorial! "
   ]
  },
  {
   "cell_type": "code",
   "execution_count": null,
   "metadata": {},
   "outputs": [],
   "source": []
  }
 ],
 "metadata": {
  "kernelspec": {
   "display_name": "Python 3",
   "language": "python",
   "name": "python3"
  },
  "language_info": {
   "codemirror_mode": {
    "name": "ipython",
    "version": 3
   },
   "file_extension": ".py",
   "mimetype": "text/x-python",
   "name": "python",
   "nbconvert_exporter": "python",
   "pygments_lexer": "ipython3",
   "version": "3.8.10"
  }
 },
 "nbformat": 4,
 "nbformat_minor": 4
}
