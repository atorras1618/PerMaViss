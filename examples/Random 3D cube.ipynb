{
 "cells": [
  {
   "cell_type": "markdown",
   "metadata": {},
   "source": [
    "# 3D random point cloud\n",
    "\n",
    "In this example we will see how permaviss works in a torus. \n",
    "We start by taking a sample of 1000 points from a 3 dimensional unit cube. Since this sample is too big, we take a subsample of 150 points by using a minmax method. We store it in `point_cloud`."
   ]
  },
  {
   "cell_type": "code",
   "execution_count": 10,
   "metadata": {},
   "outputs": [],
   "source": [
    "import matplotlib.pyplot as plt\n",
    "import numpy as np"
   ]
  },
  {
   "cell_type": "code",
   "execution_count": 11,
   "metadata": {},
   "outputs": [],
   "source": [
    "import scipy.spatial.distance as dist\n",
    "\n",
    "from permaviss.sample_point_clouds.examples import random_cube, take_sample\n",
    "\n",
    "X = random_cube(1000,3)\n",
    "point_cloud = take_sample(X,150)\n",
    "\n",
    "Dist = dist.squareform(dist.pdist(point_cloud))"
   ]
  },
  {
   "cell_type": "markdown",
   "metadata": {},
   "source": [
    "## Vietoris Rips complex\n",
    "\n",
    "Now, we compute the Vietoris Rips complex of `point_cloud`. But before we need to import some functions from **permaviss**."
   ]
  },
  {
   "cell_type": "code",
   "execution_count": 12,
   "metadata": {},
   "outputs": [],
   "source": [
    "from permaviss.simplicial_complexes.vietoris_rips import vietoris_rips\n",
    "from permaviss.simplicial_complexes.differentials import complex_differentials\n",
    "from permaviss.persistence_algebra.PH_classic import persistent_homology"
   ]
  },
  {
   "cell_type": "markdown",
   "metadata": {},
   "source": [
    "We set the parameter `max_dim` for the maximum dimension and  `max_r` for the maximum radius of the Vietoris-Rips complex produced from `point_cloud`."
   ]
  },
  {
   "cell_type": "code",
   "execution_count": 16,
   "metadata": {},
   "outputs": [],
   "source": [
    "max_r = 0.32\n",
    "max_dim = 3\n",
    "\n",
    "\n",
    "C, R = vietoris_rips(Dist, max_r, max_dim)"
   ]
  },
  {
   "cell_type": "markdown",
   "metadata": {},
   "source": [
    "## Compute ordinary Persistent Homology\n",
    "\n",
    "Afterwards, we compute the complex differentials using arithmetic mod `p`, a prime number.\n",
    "Then we get the persistent homology of `point_cloud` with the specified parameters. We store the result in `PerHom`. "
   ]
  },
  {
   "cell_type": "code",
   "execution_count": 17,
   "metadata": {},
   "outputs": [
    {
     "name": "stdout",
     "output_type": "stream",
     "text": [
      "[[ 0.26349317  0.28141142]\n",
      " [ 0.26829181  0.26830006]\n",
      " [ 0.27440454  0.30762284]\n",
      " [ 0.27491209  0.31095757]\n",
      " [ 0.27886104  0.32      ]\n",
      " [ 0.28061229  0.29480032]\n",
      " [ 0.28324016  0.32      ]\n",
      " [ 0.28408279  0.28529067]\n",
      " [ 0.28441318  0.30127611]\n",
      " [ 0.28954852  0.32      ]\n",
      " [ 0.29313546  0.32      ]\n",
      " [ 0.29445658  0.30343778]\n",
      " [ 0.29716889  0.29923996]\n",
      " [ 0.30037373  0.31243215]\n",
      " [ 0.30303834  0.31161393]\n",
      " [ 0.30462749  0.31857531]\n",
      " [ 0.30529789  0.32      ]\n",
      " [ 0.30545466  0.32      ]\n",
      " [ 0.31203991  0.32      ]\n",
      " [ 0.31372436  0.32      ]\n",
      " [ 0.31793312  0.32      ]]\n"
     ]
    }
   ],
   "source": [
    "from permaviss.persistence_algebra.PH_classic import persistent_homology\n",
    "\n",
    "p = 5\n",
    "\n",
    "Diff = complex_differentials(C, p)\n",
    "PerHom, _, _ = persistent_homology(Diff, R, max_r, p)"
   ]
  },
  {
   "cell_type": "markdown",
   "metadata": {},
   "source": [
    "## Now, do the same computation using the Mayer-Vietoris spectral sequence\n",
    "\n",
    "Now we will proceed to compute again persistent homology of `point_cloud` using the Persistence Mayer-Vietoris spectral sequence instead. For this task we take the same parameters `max_r`, `max_dim` and `p` as before. Let us first import **create_MV_ss**. "
   ]
  },
  {
   "cell_type": "code",
   "execution_count": 18,
   "metadata": {},
   "outputs": [],
   "source": [
    "from permaviss.spectral_sequence.MV_spectral_seq import create_MV_ss"
   ]
  },
  {
   "cell_type": "markdown",
   "metadata": {},
   "source": [
    "We set `max_div`, which is the number of divisions along the coordinate with greater range in `point_cloud`, to be 2. This will indicate **create_MV_ss** to cover `point_cloud` by 8 hypercubes. Also, we set the `overlap` between neighbouring regions to be slightly greater than `max_r`. The method **create_MV_ss** prints the ranks of the computed pages and returns a spectral sequence object which we store in `MV_ss`. This will take a couple of minutes."
   ]
  },
  {
   "cell_type": "code",
   "execution_count": 19,
   "metadata": {},
   "outputs": [
    {
     "name": "stdout",
     "output_type": "stream",
     "text": [
      "PAGE: 1\n",
      "[[ 20   0   0   0   0   0   0   0   0]\n",
      " [163  72  24   6   0   0   0   0   0]\n",
      " [325 351 376 374 280 140  40   5   0]]\n",
      "PAGE: 2\n",
      "[[ 20   0   0   0   0   0   0   0   0]\n",
      " [110   1   0   0   0   0   0   0   0]\n",
      " [151   5   1   0   0   0   0   0   0]]\n",
      "PAGE: 3\n",
      "[[ 20   0   0   0   0   0   0   0   0]\n",
      " [109   1   0   0   0   0   0   0   0]\n",
      " [151   5   0   0   0   0   0   0   0]]\n",
      "PAGE: 4\n",
      "[[ 20   0   0   0   0   0   0   0   0]\n",
      " [109   1   0   0   0   0   0   0   0]\n",
      " [151   5   0   0   0   0   0   0   0]]\n"
     ]
    }
   ],
   "source": [
    "max_div = 2\n",
    "overlap = max_r*1.01\n",
    "\n",
    "MV_ss = create_MV_ss(point_cloud, max_r, max_dim, max_div, overlap, p)"
   ]
  },
  {
   "cell_type": "markdown",
   "metadata": {},
   "source": [
    "Now, we compare the computed persistent homology barcodes by both methods. Unless an `AssertError` comes up, this means that the computed barcodes **coincide**. Also, we plot the relevant barcodes. "
   ]
  },
  {
   "cell_type": "code",
   "execution_count": 21,
   "metadata": {},
   "outputs": [
    {
     "data": {
      "image/png": "[encoded data removed]",
      "text/plain": [
       "<matplotlib.figure.Figure at 0x7f02596b4b00>"
      ]
     },
     "metadata": {
      "needs_background": "light"
     },
     "output_type": "display_data"
    },
    {
     "data": {
      "image/png": "[encoded data removed]",
      "text/plain": [
       "<matplotlib.figure.Figure at 0x7f02597cd4a8>"
      ]
     },
     "metadata": {
      "needs_background": "light"
     },
     "output_type": "display_data"
    },
    {
     "data": {
      "image/png": "[encoded data removed]",
      "text/plain": [
       "<matplotlib.figure.Figure at 0x7f02584ded68>"
      ]
     },
     "metadata": {
      "needs_background": "light"
     },
     "output_type": "display_data"
    }
   ],
   "source": [
    "for it, PH in enumerate(MV_ss.persistent_homology):\n",
    "    # print(PH.barcode)\n",
    "    min_r = min(PH.barcode[0,:])\n",
    "    assert np.array_equal(PH.barcode, PerHom[it].barcode)\n",
    "    step = max_r/PH.dim\n",
    "    width = step / 2.\n",
    "    fig, ax = plt.subplots(figsize = (10,4))\n",
    "    ax = plt.axes(frameon=False)\n",
    "    y_coord = 0\n",
    "    # Plot barcodes\n",
    "    for k, b in enumerate(PH.barcode):\n",
    "        ax.fill([b[0],b[1],b[1],b[0]],[y_coord,y_coord,y_coord+width,y_coord+width],'black',label='H0')\n",
    "        y_coord += step\n",
    "  \n",
    "\n",
    "    # Show figure \n",
    "    ax.axes.get_yaxis().set_visible(False)\n",
    "    ax.set_xlim([min_r,max_r])\n",
    "    ax.set_ylim([-step, max_r + step])\n",
    "    plt.savefig(\"barcode_r{}.png\".format(it))\n",
    "    plt.show()"
   ]
  },
  {
   "cell_type": "markdown",
   "metadata": {},
   "source": [
    "## Extended bars\n",
    "\n",
    "Here we look at the extension information on one dimensional persistence classes. For this we exploit the extra information stored in `MV_ss`. What we do is plot the one dimensional barcodes, highlighting those bars from the ``(0,1)`` position in the infinity page in red. Also, we highlight in blue when these bars are extended by a bar in the ``(1,0)`` position on the infinity page. All the black bars are only comming from classes in the ``(1,0)`` position on the infinity page.  "
   ]
  },
  {
   "cell_type": "code",
   "execution_count": 23,
   "metadata": {},
   "outputs": [
    {
     "data": {
      "image/png": "[encoded data removed]",
      "text/plain": [
       "<matplotlib.figure.Figure at 0x7f02584ad048>"
      ]
     },
     "metadata": {
      "needs_background": "light"
     },
     "output_type": "display_data"
    }
   ],
   "source": [
    "PH = MV_ss.persistent_homology\n",
    "start_rad = min(PH[1].barcode[:,0])\n",
    "end_rad = max(PH[1].barcode[:,1])\n",
    "persistence = end_rad - start_rad\n",
    "fig, ax = plt.subplots(figsize = (20,9))\n",
    "ax = plt.axes(frameon=False)\n",
    "# ax = plt.axes()\n",
    "step = (persistence /2) / PH[1].dim\n",
    "width = (step/6.)\n",
    "y_coord = 0\n",
    "for b in PH[1].barcode:\n",
    "    if b[0] not in MV_ss.Hom[2][1][0].barcode[:,0]:\n",
    "        ax.fill([b[0],b[1],b[1],b[0]],[y_coord,y_coord,y_coord+width,y_coord+width],c=\"#031926\", edgecolor='none')\n",
    "    else:\n",
    "        index = np.argmax(b[0] <= MV_ss.Hom[2][1][0].barcode[:,0])\n",
    "        midpoint = MV_ss.Hom[2][1][0].barcode[index,1]\n",
    "        ax.fill([b[0], midpoint, midpoint, b[0]],[y_coord,y_coord,y_coord+step,y_coord+step],c=\"#bc4b51\", edgecolor='none')\n",
    "        ax.fill([midpoint, b[1], b[1], midpoint],[y_coord,y_coord,y_coord+step,y_coord+step],c='#468189', edgecolor='none')\n",
    "        y_coord = y_coord + step\n",
    "\n",
    "    y_coord += 2 * step \n",
    "\n",
    "# Show figure\n",
    "ax.axes.get_yaxis().set_visible(False)\n",
    "ax.set_xlim([start_rad,end_rad])\n",
    "ax.set_ylim([-step, y_coord + step])\n",
    "plt.show()"
   ]
  },
  {
   "cell_type": "code",
   "execution_count": null,
   "metadata": {},
   "outputs": [],
   "source": []
  }
 ],
 "metadata": {
  "kernelspec": {
   "display_name": "Python 3",
   "language": "python",
   "name": "python3"
  },
  "language_info": {
   "codemirror_mode": {
    "name": "ipython",
    "version": 3
   },
   "file_extension": ".py",
   "mimetype": "text/x-python",
   "name": "python",
   "nbconvert_exporter": "python",
   "pygments_lexer": "ipython3",
   "version": "3.6.9"
  }
 },
 "nbformat": 4,
 "nbformat_minor": 2
}
